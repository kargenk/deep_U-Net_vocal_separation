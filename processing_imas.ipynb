{
 "cells": [
  {
   "cell_type": "code",
   "execution_count": 1,
   "metadata": {},
   "outputs": [],
   "source": [
    "#!usr/bin/env python3\n",
    "# -*- coding: utf-8 -*-"
   ]
  },
  {
   "cell_type": "code",
   "execution_count": 9,
   "metadata": {},
   "outputs": [],
   "source": [
    "from librosa.effects import pitch_shift, time_stretch\n",
    "from librosa.core import load, resample, stft\n",
    "from librosa.util import find_files\n",
    "import numpy as np\n",
    "import const as C\n",
    "import os"
   ]
  },
  {
   "cell_type": "code",
   "execution_count": 8,
   "metadata": {},
   "outputs": [
    {
     "name": "stdout",
     "output_type": "stream",
     "text": [
      "['C:\\\\Users\\\\げんげん\\\\Desktop\\\\deep_U-Net_vocal_separation\\\\src\\\\imas\\\\UNION!!.wav', 'C:\\\\Users\\\\げんげん\\\\Desktop\\\\deep_U-Net_vocal_separation\\\\src\\\\imas\\\\UNION!!_off.wav', 'C:\\\\Users\\\\げんげん\\\\Desktop\\\\deep_U-Net_vocal_separation\\\\src\\\\imas\\\\Welcome!!.wav', 'C:\\\\Users\\\\げんげん\\\\Desktop\\\\deep_U-Net_vocal_separation\\\\src\\\\imas\\\\Welcome!!_off.wav']\n"
     ]
    }
   ],
   "source": [
    "PATH_IMAS = './src/imas'\n",
    "file_list = find_files(PATH_IMAS, ext='wav')\n",
    "print(file_list)"
   ]
  },
  {
   "cell_type": "code",
   "execution_count": 10,
   "metadata": {},
   "outputs": [],
   "source": [
    "# スペクトログラムを生成する関数\n",
    "def make_spectrograms(y_mixture, y_instrumental, file_name):\n",
    "    # 短時間フーリエ変換(STFT)による各スペクトログラムの生成\n",
    "    mix_spec = np.abs(\n",
    "                    stft(y_mixture, n_fft=C.FFT_SIZE, hop_length=C.HOP_LENGTH))\\\n",
    "                .astype(np.float32)\n",
    "    inst_spec = np.abs(\n",
    "                    stft(y_instrumental, n_fft=C.FFT_SIZE, hop_length=C.HOP_LENGTH))\\\n",
    "                .astype(np.float32)\n",
    "    # ボーカル部分は原曲とインストのスペクトログラムの減算によって生成\n",
    "    vocal_spec = np.maximum(0, mix_spec - inst_spec)"
   ]
  }
 ],
 "metadata": {
  "kernelspec": {
   "display_name": "Python 3",
   "language": "python",
   "name": "python3"
  },
  "language_info": {
   "codemirror_mode": {
    "name": "ipython",
    "version": 3
   },
   "file_extension": ".py",
   "mimetype": "text/x-python",
   "name": "python",
   "nbconvert_exporter": "python",
   "pygments_lexer": "ipython3",
   "version": "3.5.5"
  },
  "widgets": {
   "state": {},
   "version": "1.1.2"
  }
 },
 "nbformat": 4,
 "nbformat_minor": 2
}
