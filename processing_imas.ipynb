{
 "cells": [
  {
   "cell_type": "code",
   "execution_count": 1,
   "metadata": {},
   "outputs": [],
   "source": [
    "#!usr/bin/env python3\n",
    "# -*- coding: utf-8 -*-"
   ]
  },
  {
   "cell_type": "code",
   "execution_count": 2,
   "metadata": {},
   "outputs": [],
   "source": [
    "from librosa.core import load, resample, stft, istft\n",
    "from librosa.output import write_wav\n",
    "from librosa.util import find_files\n",
    "import numpy as np\n",
    "import const as C\n",
    "import os"
   ]
  },
  {
   "cell_type": "code",
   "execution_count": 3,
   "metadata": {},
   "outputs": [],
   "source": [
    "PATH_IMAS = './src/imas'\n",
    "file_list = find_files(PATH_IMAS, ext='wav')"
   ]
  },
  {
   "cell_type": "code",
   "execution_count": 4,
   "metadata": {},
   "outputs": [],
   "source": [
    "# スペクトログラムを生成する関数\n",
    "def make_spectrograms(y_mixture, y_instrumental):\n",
    "    # 短時間フーリエ変換(STFT)による各スペクトログラムの生成\n",
    "    mix_spec = np.abs(\n",
    "                    stft(y_mixture, n_fft=C.FFT_SIZE, hop_length=C.HOP_LENGTH))\\\n",
    "                .astype(np.float32)\n",
    "    inst_spec = np.abs(\n",
    "                    stft(y_instrumental, n_fft=C.FFT_SIZE, hop_length=C.HOP_LENGTH))\\\n",
    "                .astype(np.float32)\n",
    "        \n",
    "    # ボーカル部分は原曲とインストのスペクトログラムの減算によって生成\n",
    "    vocal_spec = np.maximum(0, mix_spec - inst_spec)\n",
    "    \n",
    "    return mix_spec, inst_spec, vocal_spec"
   ]
  },
  {
   "cell_type": "code",
   "execution_count": 5,
   "metadata": {},
   "outputs": [],
   "source": [
    "# # 生成したボーカル音源を保存(wav形式)する関数\n",
    "# def save_vocal(y_mixture, y_instrumental, file_name):\n",
    "#     mix_spec, inst_spec, vocal_spec = make_spectrograms(y_mixture, y_instrumental)\n",
    "    \n",
    "#     phase = np.exp(1.j*np.angle(vocal_spec))  # 位相情報\n",
    "    \n",
    "#     # 逆短時間フーリエ変換により，位相情報を含むスペクトログラムから音声信号を復元\n",
    "#     y_vocal = istft(vocal_spec*phase,\n",
    "#                     hop_length=C.HOP_LENGTH, win_length=C.FFT_SIZE)\n",
    "    \n",
    "#     # ファイル名を'曲名_vocal.wav'にして保存\n",
    "#     write_wav('./src/audio_check/' + file_name + '_vocal' + '.wav', y_vocal, C.SAMPLING_RATE)\n",
    "#     print('Saving: ./src/audio_check/' + file_name + '.wav')"
   ]
  },
  {
   "cell_type": "code",
   "execution_count": 6,
   "metadata": {},
   "outputs": [],
   "source": [
    "# スペクトログラムを正規化して保存(npz形式)する関数\n",
    "def save_spectrogram(y_mixture, y_instrumental, file_name):\n",
    "    mix_spec, inst_spec, vocal_spec = make_spectrograms(y_mixture, y_instrumental)\n",
    "    \n",
    "    # 各スペクトログラムを正規化\n",
    "    norm = mix_spec.max()\n",
    "    mix_spec /= norm\n",
    "    inst_spec /= norm\n",
    "    vocal_spec /= norm\n",
    "    \n",
    "    # 保存\n",
    "    np.savez(os.path.join(C.PATH_FFT, file_name + '.npz'),\n",
    "             vocal=vocal_spec, mix=mix_spec, inst=inst_spec)\n",
    "    print('Saving: ' + C.PATH_FFT + file_name + '.npz')"
   ]
  },
  {
   "cell_type": "code",
   "execution_count": 7,
   "metadata": {},
   "outputs": [
    {
     "name": "stdout",
     "output_type": "stream",
     "text": [
      "Processing: C:\\Users\\げんげん\\Desktop\\deep_U-Net_vocal_separation\\src\\imas\\AnemoneStar.wav\n",
      "Processing: C:\\Users\\げんげん\\Desktop\\deep_U-Net_vocal_separation\\src\\imas\\AnemoneStar_off.wav\n",
      "Saving: ./spectrogram/AnemoneStar.npz\n",
      "Processing: C:\\Users\\げんげん\\Desktop\\deep_U-Net_vocal_separation\\src\\imas\\Blooming Star.wav\n",
      "Processing: C:\\Users\\げんげん\\Desktop\\deep_U-Net_vocal_separation\\src\\imas\\Blooming Star_off.wav\n",
      "Saving: ./spectrogram/Blooming Star.npz\n",
      "Processing: C:\\Users\\げんげん\\Desktop\\deep_U-Net_vocal_separation\\src\\imas\\Snow Wings.wav\n",
      "Processing: C:\\Users\\げんげん\\Desktop\\deep_U-Net_vocal_separation\\src\\imas\\Snow Wings_off.wav\n",
      "Saving: ./spectrogram/Snow Wings.npz\n",
      "Processing: C:\\Users\\げんげん\\Desktop\\deep_U-Net_vocal_separation\\src\\imas\\ToP!!!!!!!!!!!!!.wav\n",
      "Processing: C:\\Users\\げんげん\\Desktop\\deep_U-Net_vocal_separation\\src\\imas\\ToP!!!!!!!!!!!!!_off.wav\n",
      "Saving: ./spectrogram/ToP!!!!!!!!!!!!!.npz\n",
      "Processing: C:\\Users\\げんげん\\Desktop\\deep_U-Net_vocal_separation\\src\\imas\\UNION!!.wav\n",
      "Processing: C:\\Users\\げんげん\\Desktop\\deep_U-Net_vocal_separation\\src\\imas\\UNION!!_off.wav\n",
      "Saving: ./spectrogram/UNION!!.npz\n",
      "Processing: C:\\Users\\げんげん\\Desktop\\deep_U-Net_vocal_separation\\src\\imas\\Welcome!!.wav\n",
      "Processing: C:\\Users\\げんげん\\Desktop\\deep_U-Net_vocal_separation\\src\\imas\\Welcome!!_off.wav\n",
      "Saving: ./spectrogram/Welcome!!.npz\n",
      "Processing: C:\\Users\\げんげん\\Desktop\\deep_U-Net_vocal_separation\\src\\imas\\お願い! シンデレラ.wav\n",
      "Processing: C:\\Users\\げんげん\\Desktop\\deep_U-Net_vocal_separation\\src\\imas\\お願い! シンデレラ_off.wav\n",
      "Saving: ./spectrogram/お願い! シンデレラ.npz\n",
      "Processing: C:\\Users\\げんげん\\Desktop\\deep_U-Net_vocal_separation\\src\\imas\\はにかみdays.wav\n",
      "Processing: C:\\Users\\げんげん\\Desktop\\deep_U-Net_vocal_separation\\src\\imas\\はにかみdays_off.wav\n",
      "Saving: ./spectrogram/はにかみdays.npz\n",
      "Processing: C:\\Users\\げんげん\\Desktop\\deep_U-Net_vocal_separation\\src\\imas\\メルヘン∞メタモルフォーゼ!.wav\n",
      "Processing: C:\\Users\\げんげん\\Desktop\\deep_U-Net_vocal_separation\\src\\imas\\メルヘン∞メタモルフォーゼ!_off.wav\n",
      "Saving: ./spectrogram/メルヘン∞メタモルフォーゼ!.npz\n",
      "Processing: C:\\Users\\げんげん\\Desktop\\deep_U-Net_vocal_separation\\src\\imas\\ラブレター.wav\n",
      "Processing: C:\\Users\\げんげん\\Desktop\\deep_U-Net_vocal_separation\\src\\imas\\ラブレター_off.wav\n",
      "Saving: ./spectrogram/ラブレター.npz\n",
      "Processing: C:\\Users\\げんげん\\Desktop\\deep_U-Net_vocal_separation\\src\\imas\\薄紅.wav\n",
      "Processing: C:\\Users\\げんげん\\Desktop\\deep_U-Net_vocal_separation\\src\\imas\\薄紅_off.wav\n",
      "Saving: ./spectrogram/薄紅.npz\n"
     ]
    }
   ],
   "source": [
    "# mixture, instrumentalの2セットずつあるのでstep=2\n",
    "for i in range(0, len(file_list), 2):\n",
    "    print('Processing: ' + file_list[i])\n",
    "    print('Processing: ' + file_list[i+1])\n",
    "    \n",
    "    # 各音源の読み込み(time series:時系列データ)\n",
    "    y_mix, _ = load(file_list[i], sr=None)\n",
    "    y_inst, sr = load(file_list[i+1], sr=None)\n",
    "    \n",
    "    # 非ゼロ要素のインデックスを取得(np.nonzero()はタプルを返す)して抽出\n",
    "    y_mix = y_mix[np.nonzero(y_mix)[0][0]:]\n",
    "    y_inst = y_inst[np.nonzero(y_inst)[0][0]:]\n",
    "    \n",
    "    # 曲の長さが異なっていると演算ができないので，短い方を取得\n",
    "    min_length = min([y_mix.size, y_inst.size])\n",
    "    \n",
    "    # 長さを揃えつつ，リサンプリング(sr=44100kHzからC.SAMPLINGRATE=16000kHzに変換)\n",
    "    y_mix = resample(y_mix[:min_length], 44100, C.SAMPLING_RATE)\n",
    "    y_inst = resample(y_inst[:min_length], 44100, C.SAMPLING_RATE)\n",
    "    \n",
    "    # スペクトログラムを保存(npz形式)\n",
    "    file_name = file_list[i].split('\\\\')[-1].split('.')[0]\n",
    "    save_spectrogram(y_mix, y_inst, file_name)"
   ]
  }
 ],
 "metadata": {
  "kernelspec": {
   "display_name": "Python 3",
   "language": "python",
   "name": "python3"
  },
  "language_info": {
   "codemirror_mode": {
    "name": "ipython",
    "version": 3
   },
   "file_extension": ".py",
   "mimetype": "text/x-python",
   "name": "python",
   "nbconvert_exporter": "python",
   "pygments_lexer": "ipython3",
   "version": "3.6.5"
  },
  "widgets": {
   "state": {},
   "version": "1.1.2"
  }
 },
 "nbformat": 4,
 "nbformat_minor": 2
}
