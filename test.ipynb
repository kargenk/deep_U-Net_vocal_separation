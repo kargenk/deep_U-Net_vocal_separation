{
 "cells": [
  {
   "cell_type": "code",
   "execution_count": 1,
   "metadata": {},
   "outputs": [],
   "source": [
    "#!usr/bin/env python3\n",
    "# -*- coding: utf-8 -*-"
   ]
  },
  {
   "cell_type": "code",
   "execution_count": 2,
   "metadata": {},
   "outputs": [
    {
     "name": "stderr",
     "output_type": "stream",
     "text": [
      "C:\\Anaconda3\\lib\\site-packages\\h5py\\__init__.py:34: FutureWarning: Conversion of the second argument of issubdtype from `float` to `np.floating` is deprecated. In future, it will be treated as `np.float64 == np.dtype(float).type`.\n",
      "  from ._conv import register_converters as _register_converters\n"
     ]
    },
    {
     "name": "stdout",
     "output_type": "stream",
     "text": [
      "(512, 128, 1)\n",
      "(1, 256, 64, 16)\n",
      "(1, 512, 128, 1)\n"
     ]
    }
   ],
   "source": [
    "import numpy as np\n",
    "%run network.ipynb"
   ]
  },
  {
   "cell_type": "code",
   "execution_count": 3,
   "metadata": {},
   "outputs": [
    {
     "name": "stdout",
     "output_type": "stream",
     "text": [
      "(512, 128, 1)\n"
     ]
    },
    {
     "data": {
      "text/plain": [
       "array([[[145.94641526],\n",
       "        [ 51.60160573],\n",
       "        [159.68637717],\n",
       "        ...,\n",
       "        [253.87754612],\n",
       "        [ 23.06209966],\n",
       "        [103.45741344]],\n",
       "\n",
       "       [[ 71.26729187],\n",
       "        [140.52122781],\n",
       "        [ 95.03050356],\n",
       "        ...,\n",
       "        [ 59.26485554],\n",
       "        [ 80.3771513 ],\n",
       "        [ 95.69313217]],\n",
       "\n",
       "       [[110.53601897],\n",
       "        [132.21259909],\n",
       "        [146.3768408 ],\n",
       "        ...,\n",
       "        [ 94.95490238],\n",
       "        [248.29888775],\n",
       "        [ 68.44928968]],\n",
       "\n",
       "       ...,\n",
       "\n",
       "       [[238.31776187],\n",
       "        [185.54235007],\n",
       "        [196.91904965],\n",
       "        ...,\n",
       "        [204.3784444 ],\n",
       "        [ 55.55084468],\n",
       "        [ 78.00153682]],\n",
       "\n",
       "       [[143.36480649],\n",
       "        [193.35142301],\n",
       "        [121.08551861],\n",
       "        ...,\n",
       "        [227.01227084],\n",
       "        [204.62745819],\n",
       "        [ 65.67001268]],\n",
       "\n",
       "       [[ 65.8328145 ],\n",
       "        [123.04440458],\n",
       "        [140.25901865],\n",
       "        ...,\n",
       "        [206.25005275],\n",
       "        [231.96397065],\n",
       "        [161.96961947]]])"
      ]
     },
     "execution_count": 3,
     "metadata": {},
     "output_type": "execute_result"
    }
   ],
   "source": [
    "# テスト用のデータを生成\n",
    "test_audio = np.random.rand(512, 128, 1) * 255\n",
    "print(test_audio.shape)\n",
    "test_audio"
   ]
  },
  {
   "cell_type": "code",
   "execution_count": 4,
   "metadata": {},
   "outputs": [
    {
     "name": "stdout",
     "output_type": "stream",
     "text": [
      "(1, 256, 64, 16)\n"
     ]
    },
    {
     "data": {
      "text/plain": [
       "<tf.Tensor 'LeakyRelu_1:0' shape=(1, 256, 64, 16) dtype=float64>"
      ]
     },
     "execution_count": 4,
     "metadata": {},
     "output_type": "execute_result"
    }
   ],
   "source": [
    "# 最初の畳み込み層で論文通りのサイズで出力できるかのテスト\n",
    "weight = np.random.rand(5, 5, 1, 16)\n",
    "test_audio = test_audio.reshape(-1, 512, 128, 1)\n",
    "\n",
    "conv_test_audio = conv2d(test_audio, weight)\n",
    "print(conv_test_audio.shape)\n",
    "conv_test_audio"
   ]
  },
  {
   "cell_type": "code",
   "execution_count": 5,
   "metadata": {},
   "outputs": [
    {
     "name": "stdout",
     "output_type": "stream",
     "text": [
      "(1, 512, 128, 1)\n"
     ]
    },
    {
     "data": {
      "text/plain": [
       "<tf.Tensor 'Relu_1:0' shape=(1, 512, 128, 1) dtype=float64>"
      ]
     },
     "execution_count": 5,
     "metadata": {},
     "output_type": "execute_result"
    }
   ],
   "source": [
    "# 最後の逆畳み込み層で論文通りのサイズで出力できるかのテスト\n",
    "weight = np.random.rand(5, 5, 1, 16)\n",
    "output_shape = [1, 512, 128, 1]\n",
    "\n",
    "de_conv_test_audio = de_conv2d(conv_test_audio, weight, output_shape)\n",
    "print(de_conv_test_audio.shape)\n",
    "de_conv_test_audio"
   ]
  },
  {
   "cell_type": "code",
   "execution_count": null,
   "metadata": {},
   "outputs": [],
   "source": []
  }
 ],
 "metadata": {
  "kernelspec": {
   "display_name": "Python 3",
   "language": "python",
   "name": "python3"
  },
  "language_info": {
   "codemirror_mode": {
    "name": "ipython",
    "version": 3
   },
   "file_extension": ".py",
   "mimetype": "text/x-python",
   "name": "python",
   "nbconvert_exporter": "python",
   "pygments_lexer": "ipython3",
   "version": "3.5.5"
  },
  "widgets": {
   "state": {},
   "version": "1.1.2"
  }
 },
 "nbformat": 4,
 "nbformat_minor": 2
}
