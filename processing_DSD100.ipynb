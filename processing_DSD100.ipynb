{
 "cells": [
  {
   "cell_type": "code",
   "execution_count": 1,
   "metadata": {},
   "outputs": [],
   "source": [
    "#!usr/bin/env python3\n",
    "# -*- coding: utf-8 -*-"
   ]
  },
  {
   "cell_type": "code",
   "execution_count": 12,
   "metadata": {},
   "outputs": [],
   "source": [
    "from librosa.core import load\n",
    "import numpy as np\n",
    "import util\n",
    "import os"
   ]
  },
  {
   "cell_type": "code",
   "execution_count": 8,
   "metadata": {},
   "outputs": [],
   "source": [
    "PATH_DSD_SOURCE = ['E:\\Datasets\\sound\\DSD100\\Sources\\Dev', 'E:\\Datasets\\sound\\DSD100\\Sources\\Test']\n",
    "PATH_DSD_MIXTURE = ['E:\\Datasets\\sound\\DSD100\\Mixtures\\Dev', 'E:\\Datasets\\sound\\DSD100\\Mixtures\\Test']\n",
    "\n",
    "FILE_MIX = 'mixture.wav'\n",
    "FILE_BASS = 'bass.wav'\n",
    "FILE_DRUMS = 'drums.wav'\n",
    "FILE_OTHER = 'other.wav'\n",
    "FILE_VOCAL = 'vocals.wav'\n",
    "FILES_FOR_INST = [FILE_BASS, FILE_DRUMS, FILE_OTHER]"
   ]
  },
  {
   "cell_type": "code",
   "execution_count": 4,
   "metadata": {},
   "outputs": [],
   "source": [
    "# ミックス音源のDev(0)とTest(1)両方共のパスを格納して名前順にソート\n",
    "list_mixture_dir = [os.path.join(PATH_DSD_MIXTURE[0], f)\n",
    "                       for f in os.listdir(PATH_DSD_MIXTURE[0])]\n",
    "list_mixture_dir.extend([os.path.join(PATH_DSD_MIXTURE[1], f)\n",
    "                            for f in os.listdir(PATH_DSD_MIXTURE[1])])\n",
    "list_mixture_dir = sorted(list_mixture_dir)\n",
    "\n",
    "# パートごとの音源のDev(0)とTest(1)両方共のパスを格納して名前順にソート\n",
    "list_source_dir = [os.path.join(PATH_DSD_SOURCE[0], f)\n",
    "                      for f in os.listdir(PATH_DSD_SOURCE[0])]\n",
    "list_source_dir.extend([os.path.join(PATH_DSD_SOURCE[1], f)\n",
    "                           for f in os.listdir(PATH_DSD_SOURCE[1])])\n",
    "list_source_dir = sorted(list_source_dir)"
   ]
  },
  {
   "cell_type": "code",
   "execution_count": null,
   "metadata": {},
   "outputs": [],
   "source": [
    "for mixture_dir, source_dir in zip(list_mixture_dir, list_source_dir):\n",
    "    # ミックス音源とパート音源のディレクトリ名が異なれば例外を吐かせる\n",
    "    assert(mixture_dir.split('\\\\')[-1] == source_dir.split('\\\\')[-1])\n",
    "    \n",
    "    file_name = mixture_dir.split('\\\\')[-1]\n",
    "    print('Processing: ' + file_name)\n",
    "    \n",
    "    # 各音源の読み込み\n",
    "    y_mix, sr = load(os.path.join(mixture_dir, FILE_MIX), sr=None)\n",
    "    y_vocal, _ = load(os.path.join(source_dir, FILE_VOCAL), sr=None)\n",
    "    y_inst = sum([load(os.path.join(source_dir, f), sr=None)[0]\n",
    "                     for f in FILES_FOR_INST])\n",
    "    \n",
    "    # 音源の長さが異なれば例外を吐かせる\n",
    "    assert(y_mix.shape == y_inst.shape)\n",
    "    assert(y_mix.shape == y_vocal.shape)\n",
    "    \n",
    "    util.save_spectrogram(y_mix, y_inst, y_vocal, file_name)"
   ]
  }
 ],
 "metadata": {
  "kernelspec": {
   "display_name": "Python 3",
   "language": "python",
   "name": "python3"
  },
  "language_info": {
   "codemirror_mode": {
    "name": "ipython",
    "version": 3
   },
   "file_extension": ".py",
   "mimetype": "text/x-python",
   "name": "python",
   "nbconvert_exporter": "python",
   "pygments_lexer": "ipython3",
   "version": "3.5.5"
  },
  "widgets": {
   "state": {},
   "version": "1.1.2"
  }
 },
 "nbformat": 4,
 "nbformat_minor": 2
}
