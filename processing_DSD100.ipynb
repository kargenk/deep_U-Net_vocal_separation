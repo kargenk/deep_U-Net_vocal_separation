{
 "cells": [
  {
   "cell_type": "code",
   "execution_count": 1,
   "metadata": {},
   "outputs": [],
   "source": [
    "#!usr/bin/env python3\n",
    "# -*- coding: utf-8 -*-"
   ]
  },
  {
   "cell_type": "code",
   "execution_count": 2,
   "metadata": {},
   "outputs": [],
   "source": [
    "from librosa.core import load\n",
    "import numpy as np\n",
    "import util\n",
    "import os"
   ]
  },
  {
   "cell_type": "code",
   "execution_count": 3,
   "metadata": {},
   "outputs": [],
   "source": [
    "PATH_DSD_SOURCE = ['E:\\Datasets\\sound\\DSD100\\Sources\\Dev', 'E:\\Datasets\\sound\\DSD100\\Sources\\Test']\n",
    "PATH_DSD_MIXTURE = ['E:\\Datasets\\sound\\DSD100\\Mixtures\\Dev', 'E:\\Datasets\\sound\\DSD100\\Mixtures\\Test']\n",
    "\n",
    "FILE_MIX = 'mixture.wav'\n",
    "FILE_BASS = 'bass.wav'\n",
    "FILE_DRUMS = 'drums.wav'\n",
    "FILE_OTHER = 'other.wav'\n",
    "FILE_VOCAL = 'vocal.wav'"
   ]
  },
  {
   "cell_type": "code",
   "execution_count": 5,
   "metadata": {},
   "outputs": [],
   "source": [
    "# パートごとの音源のDev(0)とTest(1)両方共のパスを格納して名前順にソート\n",
    "list_source_dir = [os.path.join(PATH_DSD_SOURCE[0], f)\n",
    "                      for f in os.listdir(PATH_DSD_SOURCE[0])]\n",
    "list_source_dir.extend([os.path.join(PATH_DSD_SOURCE[1], f)\n",
    "                           for f in os.listdir(PATH_DSD_SOURCE[1])])\n",
    "list_source_dir = sorted(list_source_dir)\n",
    "\n",
    "# ミックス音源のDev(0)とTest(1)両方共のパスを格納して名前順にソート\n",
    "list_mixture_dir = [os.path.join(PATH_DSD_MIXTURE[0], f)\n",
    "                       for f in os.listdir(PATH_DSD_MIXTURE[0])]\n",
    "list_mixture_dir.extend([os.path.join(PATH_DSD_MIXTURE[1], f)\n",
    "                            for f in os.listdir(PATH_DSD_MIXTURE[1])])\n",
    "list_mixture_dir = sorted(list_mixture_dir)"
   ]
  },
  {
   "cell_type": "code",
   "execution_count": null,
   "metadata": {},
   "outputs": [],
   "source": []
  }
 ],
 "metadata": {
  "kernelspec": {
   "display_name": "Python 3",
   "language": "python",
   "name": "python3"
  },
  "language_info": {
   "codemirror_mode": {
    "name": "ipython",
    "version": 3
   },
   "file_extension": ".py",
   "mimetype": "text/x-python",
   "name": "python",
   "nbconvert_exporter": "python",
   "pygments_lexer": "ipython3",
   "version": "3.5.5"
  },
  "widgets": {
   "state": {},
   "version": "1.1.2"
  }
 },
 "nbformat": 4,
 "nbformat_minor": 2
}
