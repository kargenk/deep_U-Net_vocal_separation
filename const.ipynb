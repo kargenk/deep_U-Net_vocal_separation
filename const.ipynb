{
 "cells": [
  {
   "cell_type": "code",
   "execution_count": 2,
   "metadata": {},
   "outputs": [],
   "source": [
    "#!usr/bin/env python3\n",
    "# -*- coding:utf-8 -*-"
   ]
  },
  {
   "cell_type": "code",
   "execution_count": 3,
   "metadata": {},
   "outputs": [],
   "source": [
    "SAMPLING_RATE = 16000        # サンプリング周波数:16kHz\n",
    "HOP_LENGTH = 512             # 窓関数を掛ける時の移動(ずらし)幅\n",
    "FFT_SIZE = 1024              # 高速フーリエ変換(FFT)を行うときの幅\n",
    "BATCH_SIZE = 64\n",
    "PATCH_LENGTH = 128\n",
    "\n",
    "PATH_FFT = './spectrogram/'  # spectrogramを保存するディレクトリ"
   ]
  }
 ],
 "metadata": {
  "kernelspec": {
   "display_name": "Python 3",
   "language": "python",
   "name": "python3"
  },
  "language_info": {
   "codemirror_mode": {
    "name": "ipython",
    "version": 3
   },
   "file_extension": ".py",
   "mimetype": "text/x-python",
   "name": "python",
   "nbconvert_exporter": "python",
   "pygments_lexer": "ipython3",
   "version": "3.5.5"
  },
  "widgets": {
   "state": {},
   "version": "1.1.2"
  }
 },
 "nbformat": 4,
 "nbformat_minor": 2
}
