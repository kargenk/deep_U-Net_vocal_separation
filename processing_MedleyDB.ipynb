{
 "cells": [
  {
   "cell_type": "code",
   "execution_count": 1,
   "metadata": {},
   "outputs": [],
   "source": [
    "#!usr/bin/env python3\n",
    "# -*- coding: utf-8 -*-"
   ]
  },
  {
   "cell_type": "code",
   "execution_count": 61,
   "metadata": {},
   "outputs": [],
   "source": [
    "from librosa.core import load, resample, stft, istft\n",
    "from librosa.output import write_wav\n",
    "from librosa.util import find_files\n",
    "import numpy as np\n",
    "import const as C\n",
    "import util\n",
    "import yaml\n",
    "import os"
   ]
  },
  {
   "cell_type": "markdown",
   "metadata": {},
   "source": [
    "## 周辺知識\n",
    "- **パラデータ** ... 各トラック単体のデータ\n",
    "- **ステムデータ** ... 複数のトラックをまとめたもの(パラデータの集合)である．\n",
    "\n",
    "MedleyDBのデータセットには生音源と，各種のステム音源があり，Metadataのyamlファイルにそれぞれの情報が記載されている．\n",
    "vocalが入っているのは，instrumentalの属性値が'male singer'，'female singer'，'vocalists'のものである．複数ある場合もあれば，どれか一つのみの場合もあるので各々でマッチさせる必要がある．"
   ]
  },
  {
   "cell_type": "code",
   "execution_count": 34,
   "metadata": {},
   "outputs": [
    {
     "name": "stdout",
     "output_type": "stream",
     "text": [
      "['E:\\\\Datasets\\\\sound\\\\MedleyDB\\\\Metadata\\\\AClassicEducation_NightOwl_METADATA.yaml', 'E:\\\\Datasets\\\\sound\\\\MedleyDB\\\\Metadata\\\\AHa_TakeOnMe_METADATA.yaml', 'E:\\\\Datasets\\\\sound\\\\MedleyDB\\\\Metadata\\\\AcDc_BackInBlack_METADATA.yaml', 'E:\\\\Datasets\\\\sound\\\\MedleyDB\\\\Metadata\\\\Adele_SomeoneLikeYou_METADATA.yaml', 'E:\\\\Datasets\\\\sound\\\\MedleyDB\\\\Metadata\\\\Aerosmith_LoveInAnElevator_METADATA.yaml']\n"
     ]
    }
   ],
   "source": [
    "PATH_MEDLEYDB = 'E:\\Datasets\\sound\\MedleyDB\\V1'\n",
    "PATH_E_DRIVE = 'E:/Datasets/sound/MedleyDB_gen/'\n",
    "\n",
    "metadata_list = find_files(PATH_MEDLEYDB.rstrip('\\V1'), ext='yaml')\n",
    "print(metadata_list[:5])"
   ]
  },
  {
   "cell_type": "code",
   "execution_count": 57,
   "metadata": {},
   "outputs": [],
   "source": [
    "def save_medleydb_mix(y_mixture, file_name):\n",
    "    mix_spec = np.abs(\n",
    "                    stft(y_mixture, n_fft=C.FFT_SIZE, hop_length=C.HOP_LENGTH))\\\n",
    "                .astype(np.float32)\n",
    "    \n",
    "    phase = np.exp(1.j*np.angle(mix_spec))\n",
    "    y_mix = istft(mix_spec*phase,\n",
    "                  hop_length=C.HOP_LENGTH, win_length=C.FFT_SIZE)\n",
    "    \n",
    "    write_wav(PATH_E_DRIVE + file_name + '_mix.wav', y_mix, C.SAMPLING_RATE)\n",
    "    print('Saving: ' + PATH_E_DRIVE + file_name + '_mix.wav')\n",
    "\n",
    "def save_medleydb_inst(y_instrument, file_name):\n",
    "    inst_spec = np.abs(\n",
    "                    stft(y_instrument, n_fft=C.FFT_SIZE, hop_length=C.HOP_LENGTH))\\\n",
    "                .astype(np.float32)\n",
    "    phase = np.exp(1.j*np.angle(inst_spec))\n",
    "    y_inst = istft(inst_spec*phase,\n",
    "                   hop_length=C.HOP_LENGTH, win_length=C.FFT_SIZE)\n",
    "    write_wav(PATH_E_DRIVE + file_name + '_inst.wav', y_inst, C.SAMPLING_RATE)\n",
    "    print('Saving: ' + PATH_E_DRIVE + file_name + '_inst.wav')\n",
    "\n",
    "def save_medleydb_vocal(y_vocal, file_name):\n",
    "    vocal_spec = np.abs(\n",
    "                    stft(y_vocal, n_fft=C.FFT_SIZE, hop_length=C.HOP_LENGTH))\\\n",
    "                .astype(np.float32)\n",
    "    phase = np.exp(1.j*np.angle(vocal_spec))\n",
    "    y_vocal = istft(vocal_spec*phase,\n",
    "                    hop_length=C.HOP_LENGTH, win_length=C.FFT_SIZE)\n",
    "    write_wav(PATH_E_DRIVE + file_name + '_vocal.wav', y_vocal, C.SAMPLING_RATE)\n",
    "    print('Saving: ' + PATH_E_DRIVE + file_name + '_vocal.wav')"
   ]
  },
  {
   "cell_type": "code",
   "execution_count": 62,
   "metadata": {},
   "outputs": [
    {
     "name": "stdout",
     "output_type": "stream",
     "text": [
      "YAML file: E:\\Datasets\\sound\\MedleyDB\\Metadata\\AClassicEducation_NightOwl_METADATA.yaml\n",
      "song: AClassicEducation_NightOwl\n",
      "stem: AClassicEducation_NightOwl_STEM_01.wav bass electric bass\n",
      "stem: AClassicEducation_NightOwl_STEM_11.wav  tambourine\n",
      "stem: AClassicEducation_NightOwl_STEM_07.wav  distorted electric guitar\n",
      "stem: AClassicEducation_NightOwl_STEM_10.wav  vocalists\n",
      "this is vocal!\n",
      "stem: AClassicEducation_NightOwl_STEM_06.wav  distorted electric guitar\n",
      "stem: AClassicEducation_NightOwl_STEM_03.wav  distorted electric guitar\n",
      "stem: AClassicEducation_NightOwl_STEM_09.wav  synthesizer\n",
      "stem: AClassicEducation_NightOwl_STEM_08.wav melody male singer\n",
      "this is vocal!\n",
      "stem: AClassicEducation_NightOwl_STEM_05.wav  clean electric guitar\n",
      "stem: AClassicEducation_NightOwl_STEM_02.wav  drum set\n",
      "stem: AClassicEducation_NightOwl_STEM_12.wav  fx/processed sound\n",
      "stem: AClassicEducation_NightOwl_STEM_04.wav melody distorted electric guitar\n",
      "stem: AClassicEducation_NightOwl_STEM_13.wav melody male singer\n",
      "this is vocal!\n",
      "detexted vocals:\n",
      "['AClassicEducation_NightOwl_STEM_10.wav', 'AClassicEducation_NightOwl_STEM_08.wav', 'AClassicEducation_NightOwl_STEM_13.wav']\n",
      "Saving: E:/Datasets/sound/MedleyDB_gen/AClassicEducation_NightOwl_mix.wav\n",
      "Saving: E:/Datasets/sound/MedleyDB_gen/AClassicEducation_NightOwl_inst.wav\n",
      "Saving: E:/Datasets/sound/MedleyDB_gen/AClassicEducation_NightOwl_vocal.wav\n",
      "******************************************************************************************************************************************************\n"
     ]
    }
   ],
   "source": [
    "for metafile in metadata_list:\n",
    "    print('YAML file: %s' % metafile)\n",
    "    \n",
    "    # 曲名を抽出(末尾の'_METADATA.yaml'を除いた文字列を格納)\n",
    "    songname = metafile.split('\\\\')[-1][:-14]\n",
    "    print('song: %s' % songname)\n",
    "    \n",
    "    # yamlファイルの読み込み\n",
    "    with open(metafile, mode='r') as f:\n",
    "        data = yaml.load(f)\n",
    "    \n",
    "    # インストがあるものはスキップ\n",
    "    if data['instrumental'] != 'no':\n",
    "        print('Instrumental track. Skipped.')\n",
    "        continue\n",
    "    \n",
    "    stem_vocal = []\n",
    "    stem_inst = []\n",
    "    stem_path = os.path.join(PATH_MEDLEYDB, songname, data['stem_dir'])\n",
    "    \n",
    "    # stemデータの抽出\n",
    "    for s in data['stems']:\n",
    "        stem = data['stems'][s]\n",
    "        file_name = stem['filename']\n",
    "        \n",
    "        # 各ステムファイルのcomponent:構成要素とinstrument:楽器を表示\n",
    "        print('stem: %s %s %s' % (file_name, stem['component'], stem['instrument']))\n",
    "        \n",
    "        # instrumentの属性値がボーカルのものと楽器のものを分ける\n",
    "        if 'male' in stem['instrument'] or \\\n",
    "            'singer' in stem['instrument'] or \\\n",
    "            'vocalists' in stem['instrument']:\n",
    "                stem_vocal.append(file_name)\n",
    "                print('this is vocal!')\n",
    "        else:\n",
    "            stem_inst.append(file_name)\n",
    "        \n",
    "    print('detexted vocals:')\n",
    "    print(stem_vocal)\n",
    "    \n",
    "    # ボーカルもインストもないものはスキップ\n",
    "    if (len(stem_vocal) == 0) or (len(stem_inst) == 0):\n",
    "        print('empty vocal or inst data ... skip!')\n",
    "        continue\n",
    "    \n",
    "    # 各音源をまとめる\n",
    "    audio_inst = sum([load(os.path.join(stem_path, f), sr=None, mono=True)[0]\n",
    "                      for f in stem_inst])\n",
    "    audio_vocal = sum([load(os.path.join(stem_path, f), sr=None, mono=True)[0]\n",
    "                      for f in stem_vocal])\n",
    "    audio_mix = audio_inst + audio_vocal\n",
    "    \n",
    "    # リサンプリング\n",
    "    audio_mix = resample(audio_mix, 44100, C.SAMPLING_RATE)\n",
    "    audio_inst = resample(audio_inst, 44100, C.SAMPLING_RATE)\n",
    "    audio_vocal = resample(audio_vocal, 44100, C.SAMPLING_RATE)\n",
    "    \n",
    "#     # 各音源を保存\n",
    "#     save_medleydb_mix(audio_mix, songname)\n",
    "#     save_medleydb_inst(audio_inst, songname)\n",
    "#     save_medleydb_vocal(audio_vocal, songname)\n",
    "    \n",
    "    print('*' * 150)"
   ]
  },
  {
   "cell_type": "code",
   "execution_count": 48,
   "metadata": {},
   "outputs": [
    {
     "data": {
      "text/plain": [
       "7560512"
      ]
     },
     "execution_count": 48,
     "metadata": {},
     "output_type": "execute_result"
    }
   ],
   "source": [
    "audio_inst.size"
   ]
  },
  {
   "cell_type": "code",
   "execution_count": 49,
   "metadata": {},
   "outputs": [
    {
     "data": {
      "text/plain": [
       "7560512"
      ]
     },
     "execution_count": 49,
     "metadata": {},
     "output_type": "execute_result"
    }
   ],
   "source": [
    "audio_vocal.size"
   ]
  },
  {
   "cell_type": "code",
   "execution_count": 52,
   "metadata": {},
   "outputs": [
    {
     "data": {
      "text/plain": [
       "7560512"
      ]
     },
     "execution_count": 52,
     "metadata": {},
     "output_type": "execute_result"
    }
   ],
   "source": [
    "audio_mix.size"
   ]
  },
  {
   "cell_type": "code",
   "execution_count": null,
   "metadata": {},
   "outputs": [],
   "source": []
  }
 ],
 "metadata": {
  "kernelspec": {
   "display_name": "Python 3",
   "language": "python",
   "name": "python3"
  },
  "language_info": {
   "codemirror_mode": {
    "name": "ipython",
    "version": 3
   },
   "file_extension": ".py",
   "mimetype": "text/x-python",
   "name": "python",
   "nbconvert_exporter": "python",
   "pygments_lexer": "ipython3",
   "version": "3.5.5"
  },
  "widgets": {
   "state": {},
   "version": "1.1.2"
  }
 },
 "nbformat": 4,
 "nbformat_minor": 2
}
