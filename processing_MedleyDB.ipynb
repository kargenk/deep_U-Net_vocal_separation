{
 "cells": [
  {
   "cell_type": "code",
   "execution_count": 1,
   "metadata": {},
   "outputs": [],
   "source": [
    "#!usr/bin/env python3\n",
    "# -*- coding: utf-8 -*-"
   ]
  },
  {
   "cell_type": "code",
   "execution_count": 1,
   "metadata": {},
   "outputs": [],
   "source": [
    "from librosa.core import load\n",
    "from librosa.util import find_files\n",
    "import util\n",
    "import yaml\n",
    "import os"
   ]
  },
  {
   "cell_type": "markdown",
   "metadata": {},
   "source": [
    "## 周辺知識\n",
    "- **パラデータ** ... 各トラック単体のデータ\n",
    "- **ステムデータ** ... 複数のトラックをまとめたもの(パラデータの集合)である．\n",
    "\n",
    "MedleyDBのデータセットには生音源と，各種のステム音源があり，Metadataのyamlファイルにそれぞれの情報が記載されている．\n",
    "vocalが入っているのは，instrumentalの属性値が'male singer'，'female singer'，'vocalists'のものである．複数ある場合もあれば，どれか一つのみの場合もあるので各々でマッチさせる必要がある．"
   ]
  },
  {
   "cell_type": "code",
   "execution_count": 7,
   "metadata": {},
   "outputs": [
    {
     "name": "stdout",
     "output_type": "stream",
     "text": [
      "['E:\\\\Datasets\\\\sound\\\\MedleyDB\\\\Metadata\\\\AClassicEducation_NightOwl_METADATA.yaml', 'E:\\\\Datasets\\\\sound\\\\MedleyDB\\\\Metadata\\\\AHa_TakeOnMe_METADATA.yaml', 'E:\\\\Datasets\\\\sound\\\\MedleyDB\\\\Metadata\\\\AcDc_BackInBlack_METADATA.yaml', 'E:\\\\Datasets\\\\sound\\\\MedleyDB\\\\Metadata\\\\Adele_SomeoneLikeYou_METADATA.yaml', 'E:\\\\Datasets\\\\sound\\\\MedleyDB\\\\Metadata\\\\Aerosmith_LoveInAnElevator_METADATA.yaml']\n"
     ]
    }
   ],
   "source": [
    "PATH_MEDLEYDB = 'E:\\Datasets\\sound\\MedleyDB\\V1'\n",
    "\n",
    "metadata_list = find_files(PATH_MEDLEYDB.rstrip('\\V1'), ext='yaml')\n",
    "print(metadata_list[:5])"
   ]
  },
  {
   "cell_type": "code",
   "execution_count": 30,
   "metadata": {},
   "outputs": [
    {
     "name": "stdout",
     "output_type": "stream",
     "text": [
      "YAML file: E:\\Datasets\\sound\\MedleyDB\\Metadata\\AClassicEducation_NightOwl_METADATA.yaml\n",
      "song: AClassicEducation_NightOwl\n",
      "stem: AClassicEducation_NightOwl_STEM_01.wav bass electric bass\n",
      "stem: AClassicEducation_NightOwl_STEM_11.wav  tambourine\n",
      "stem: AClassicEducation_NightOwl_STEM_07.wav  distorted electric guitar\n",
      "stem: AClassicEducation_NightOwl_STEM_10.wav  vocalists\n",
      "this is vocal!\n",
      "stem: AClassicEducation_NightOwl_STEM_06.wav  distorted electric guitar\n",
      "stem: AClassicEducation_NightOwl_STEM_03.wav  distorted electric guitar\n",
      "stem: AClassicEducation_NightOwl_STEM_09.wav  synthesizer\n",
      "stem: AClassicEducation_NightOwl_STEM_08.wav melody male singer\n",
      "this is vocal!\n",
      "stem: AClassicEducation_NightOwl_STEM_05.wav  clean electric guitar\n",
      "stem: AClassicEducation_NightOwl_STEM_02.wav  drum set\n",
      "stem: AClassicEducation_NightOwl_STEM_12.wav  fx/processed sound\n",
      "stem: AClassicEducation_NightOwl_STEM_04.wav melody distorted electric guitar\n",
      "stem: AClassicEducation_NightOwl_STEM_13.wav melody male singer\n",
      "this is vocal!\n",
      "detexted vocals:\n",
      "['AClassicEducation_NightOwl_STEM_10.wav', 'AClassicEducation_NightOwl_STEM_08.wav', 'AClassicEducation_NightOwl_STEM_13.wav']\n",
      "******************************************************************************************************************************************************\n",
      "YAML file: E:\\Datasets\\sound\\MedleyDB\\Metadata\\AHa_TakeOnMe_METADATA.yaml\n",
      "song: AHa_TakeOnMe\n",
      "stem: AHa_TakeOnMe_STEM_06.wav melody synthesizer\n",
      "stem: AHa_TakeOnMe_STEM_01.wav melody synthesizer\n",
      "stem: AHa_TakeOnMe_STEM_02.wav melody ['male singer', 'vocalists']\n",
      "this is vocal!\n",
      "stem: AHa_TakeOnMe_STEM_03.wav bass synthesizer\n",
      "stem: AHa_TakeOnMe_STEM_04.wav  acoustic guitar\n",
      "stem: AHa_TakeOnMe_STEM_05.wav  drum set\n",
      "detexted vocals:\n",
      "['AHa_TakeOnMe_STEM_02.wav']\n",
      "******************************************************************************************************************************************************\n",
      "YAML file: E:\\Datasets\\sound\\MedleyDB\\Metadata\\AcDc_BackInBlack_METADATA.yaml\n",
      "song: AcDc_BackInBlack\n",
      "stem: AcDc_BackInBlack_STEM_06.wav melody male singer\n",
      "this is vocal!\n",
      "stem: AcDc_BackInBlack_STEM_01.wav  Main System\n",
      "stem: AcDc_BackInBlack_STEM_02.wav melody distorted electric guitar\n",
      "stem: AcDc_BackInBlack_STEM_03.wav bass electric bass\n",
      "stem: AcDc_BackInBlack_STEM_04.wav  distorted electric guitar\n",
      "stem: AcDc_BackInBlack_STEM_05.wav  drum set\n",
      "detexted vocals:\n",
      "['AcDc_BackInBlack_STEM_06.wav']\n",
      "******************************************************************************************************************************************************\n",
      "YAML file: E:\\Datasets\\sound\\MedleyDB\\Metadata\\Adele_SomeoneLikeYou_METADATA.yaml\n",
      "song: Adele_SomeoneLikeYou\n",
      "stem: Adele_SomeoneLikeYou_STEM_02.wav melody ['female singer', 'vocalists']\n",
      "this is vocal!\n",
      "stem: Adele_SomeoneLikeYou_STEM_01.wav  piano\n",
      "detexted vocals:\n",
      "['Adele_SomeoneLikeYou_STEM_02.wav']\n",
      "******************************************************************************************************************************************************\n",
      "YAML file: E:\\Datasets\\sound\\MedleyDB\\Metadata\\Aerosmith_LoveInAnElevator_METADATA.yaml\n",
      "song: Aerosmith_LoveInAnElevator\n",
      "stem: Aerosmith_LoveInAnElevator_STEM_03.wav melody distorted electric guitar\n",
      "stem: Aerosmith_LoveInAnElevator_STEM_02.wav bass electric bass\n",
      "stem: Aerosmith_LoveInAnElevator_STEM_01.wav  drum set\n",
      "stem: Aerosmith_LoveInAnElevator_STEM_04.wav  ['female speaker', 'distorted electric guitar', 'drum set', 'piano', 'synthesizer', 'shaker']\n",
      "stem: Aerosmith_LoveInAnElevator_STEM_05.wav melody ['male singer', 'vocalists']\n",
      "this is vocal!\n",
      "detexted vocals:\n",
      "['Aerosmith_LoveInAnElevator_STEM_05.wav']\n",
      "******************************************************************************************************************************************************\n",
      "YAML file: E:\\Datasets\\sound\\MedleyDB\\Metadata\\AimeeNorwich_Child_METADATA.yaml\n",
      "song: AimeeNorwich_Child\n",
      "stem: AimeeNorwich_Child_STEM_06.wav  piano\n",
      "stem: AimeeNorwich_Child_STEM_01.wav  drum set\n",
      "stem: AimeeNorwich_Child_STEM_07.wav  acoustic guitar\n",
      "stem: AimeeNorwich_Child_STEM_02.wav bass electric bass\n",
      "stem: AimeeNorwich_Child_STEM_03.wav  clean electric guitar\n",
      "stem: AimeeNorwich_Child_STEM_04.wav melody female singer\n",
      "this is vocal!\n",
      "stem: AimeeNorwich_Child_STEM_05.wav  vocalists\n",
      "this is vocal!\n",
      "detexted vocals:\n",
      "['AimeeNorwich_Child_STEM_04.wav', 'AimeeNorwich_Child_STEM_05.wav']\n",
      "******************************************************************************************************************************************************\n"
     ]
    }
   ],
   "source": [
    "for metafile in metadata_list[:6]:\n",
    "    print('YAML file: %s' % metafile)\n",
    "    \n",
    "    # 曲名を抽出(末尾の'_METADATA.yaml'を除いた文字列を格納)\n",
    "    songname = metafile.split('\\\\')[-1][:-14]\n",
    "    print('song: %s' % songname)\n",
    "    \n",
    "    # yamlファイルの読み込み\n",
    "    with open(metafile, mode='r') as f:\n",
    "        data = yaml.load(f)\n",
    "    \n",
    "    # インストがあるものはスキップ\n",
    "    if data['instrumental'] != 'no':\n",
    "        print('Instrumental track. Skipped.')\n",
    "        continue\n",
    "    \n",
    "    stem_vocal = []\n",
    "    stem_inst = []\n",
    "    stem_path = os.path.join(PATH_MEDLEYDB, songname, data['stem_dir'])\n",
    "    \n",
    "    # stemデータの抽出\n",
    "    for s in data['stems']:\n",
    "        stem = data['stems'][s]\n",
    "        file_name = stem['filename']\n",
    "        \n",
    "        # 各ステムファイルのcomponent:構成要素とinstrument:楽器を表示\n",
    "        print('stem: %s %s %s' % (file_name, stem['component'], stem['instrument']))\n",
    "        \n",
    "        # instrumentの属性値がボーカルのものと楽器のものを分ける\n",
    "        if 'male' in stem['instrument'] or \\\n",
    "            'singer' in stem['instrument'] or \\\n",
    "            'vocalists' in stem['instrument']:\n",
    "                stem_vocal.append(file_name)\n",
    "                print('this is vocal!')\n",
    "        else:\n",
    "            stem_inst.append(file_name)\n",
    "        \n",
    "    print('detexted vocals:')\n",
    "    print(stem_vocal)\n",
    "    print('*' * 150)"
   ]
  },
  {
   "cell_type": "code",
   "execution_count": null,
   "metadata": {},
   "outputs": [],
   "source": []
  }
 ],
 "metadata": {
  "kernelspec": {
   "display_name": "Python 3",
   "language": "python",
   "name": "python3"
  },
  "language_info": {
   "codemirror_mode": {
    "name": "ipython",
    "version": 3
   },
   "file_extension": ".py",
   "mimetype": "text/x-python",
   "name": "python",
   "nbconvert_exporter": "python",
   "pygments_lexer": "ipython3",
   "version": "3.5.5"
  },
  "widgets": {
   "state": {},
   "version": "1.1.2"
  }
 },
 "nbformat": 4,
 "nbformat_minor": 2
}
