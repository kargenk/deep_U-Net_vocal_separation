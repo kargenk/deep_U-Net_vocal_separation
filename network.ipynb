{
 "cells": [
  {
   "cell_type": "code",
   "execution_count": 1,
   "metadata": {},
   "outputs": [],
   "source": [
    "#!usr/bin/env python3\n",
    "# -*- coding: utf-8 -*-"
   ]
  },
  {
   "cell_type": "code",
   "execution_count": 6,
   "metadata": {},
   "outputs": [],
   "source": [
    "import tensorflow as tf\n",
    "import numpy as np\n",
    "import const as C"
   ]
  },
  {
   "cell_type": "code",
   "execution_count": 3,
   "metadata": {},
   "outputs": [],
   "source": [
    "# filter = [height, width, output_channel, in_channel]\n",
    "# 畳み込み層(エンコーダ部分)\n",
    "def conv2d(x, weight, stride=2, batch_norm=True, is_training=True, leaky_relu=True):\n",
    "    net = tf.nn.conv2d(x,\n",
    "                       filter=weight,\n",
    "                       strides=[1, stride, stride, 1],\n",
    "                       padding='SAME')\n",
    "    if batch_norm:\n",
    "        net = tf.layers.batch_normalization(net, training=is_training)\n",
    "    if leaky_relu:\n",
    "        net = tf.nn.leaky_relu(net, 0.2)\n",
    "    return net"
   ]
  },
  {
   "cell_type": "code",
   "execution_count": 4,
   "metadata": {},
   "outputs": [],
   "source": [
    "# output_shape = [バッチ数, 得たいheight, 得たいwidth, 得たいchannel]\n",
    "# 逆畳み込み層(デコーダ部分)\n",
    "def de_conv2d(x, weight, output_shape, stride=2, batch_norm=True, is_training=True, relu=True):\n",
    "    net = tf.nn.conv2d_transpose(x,\n",
    "                                 filter=weight,\n",
    "                                 output_shape=output_shape,\n",
    "                                 strides=[1, stride, stride, 1],\n",
    "                                 padding='SAME')\n",
    "    if batch_norm:\n",
    "        net = tf.layers.batch_normalization(net, training=is_training)\n",
    "    if relu:\n",
    "        return tf.nn.relu(net)\n",
    "    return net"
   ]
  },
  {
   "cell_type": "code",
   "execution_count": null,
   "metadata": {},
   "outputs": [],
   "source": [
    "def UNet():\n",
    "    net = {}\n",
    "    net['input'] = tf.Variable(np.zeros((C.BATCH_SIZE, C.IMAGE_HEIGHT, C.PATCH_LENGTH, 1)).astype('float32'))\n",
    "    net['conv1'] = conv2d(net['input'], weight1)\n",
    "    net['conv2'] = conv2d(net['conv1'], weight2)\n",
    "    net['conv3'] = conv2d(net['conv2'], weight3)\n",
    "    net['conv4'] = conv2d(net['conv3'], weight4)\n",
    "    net['conv5'] = conv2d(net['conv4'], weight5)\n",
    "    net['conv6'] = conv2d(net['conv5'], weight6)\n",
    "    net['de_conv1'] = de_conv2d(net['conv6'], de_weight1, (16, 4, 256))\n",
    "    net['de_conv2'] = de_conv2d(net['de_conv1'], de_weight2, (32, 8, 128))\n",
    "    net['de_conv3'] = de_conv2d(net['de_conv2'], de_weight3, (64, 16, 64))\n",
    "    net['de_conv4'] = de_conv2d(net['de_conv3'], de_weight4, (128, 32, 32))\n",
    "    net['de_conv5'] = de_conv2d(net['de_conv4'], de_weight5, (256, 16, 16))\n",
    "    net['de_conv6'] = de_conv2d(net['de_conv5'], de_weight6, (512, 128, 1))\n",
    "    return net"
   ]
  },
  {
   "cell_type": "code",
   "execution_count": null,
   "metadata": {},
   "outputs": [],
   "source": []
  }
 ],
 "metadata": {
  "kernelspec": {
   "display_name": "Python 3",
   "language": "python",
   "name": "python3"
  },
  "language_info": {
   "codemirror_mode": {
    "name": "ipython",
    "version": 3
   },
   "file_extension": ".py",
   "mimetype": "text/x-python",
   "name": "python",
   "nbconvert_exporter": "python",
   "pygments_lexer": "ipython3",
   "version": "3.5.5"
  },
  "widgets": {
   "state": {},
   "version": "1.1.2"
  }
 },
 "nbformat": 4,
 "nbformat_minor": 2
}
