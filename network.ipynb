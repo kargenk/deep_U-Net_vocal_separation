{
 "cells": [
  {
   "cell_type": "code",
   "execution_count": 1,
   "metadata": {},
   "outputs": [],
   "source": [
    "#!usr/bin/env python3\n",
    "# -*- coding: utf-8 -*-"
   ]
  },
  {
   "cell_type": "code",
   "execution_count": 2,
   "metadata": {},
   "outputs": [
    {
     "name": "stderr",
     "output_type": "stream",
     "text": [
      "C:\\Anaconda3\\lib\\site-packages\\h5py\\__init__.py:34: FutureWarning: Conversion of the second argument of issubdtype from `float` to `np.floating` is deprecated. In future, it will be treated as `np.float64 == np.dtype(float).type`.\n",
      "  from ._conv import register_converters as _register_converters\n"
     ]
    }
   ],
   "source": [
    "import tensorflow as tf"
   ]
  },
  {
   "cell_type": "code",
   "execution_count": 4,
   "metadata": {},
   "outputs": [],
   "source": [
    "# filter = [height, width, output_channel, in_channel]\n",
    "# 畳み込み層\n",
    "def conv2d(x, weight, stride=2, leaky_relu=True):\n",
    "    net = tf.nn.conv2d(x,\n",
    "                       filter=weight,\n",
    "                       strides=[1, stride, stride, 1],\n",
    "                       padding='SAME')\n",
    "    if leaky_relu:\n",
    "        return tf.nn.leaky_relu(net, 0.2)\n",
    "    return net"
   ]
  },
  {
   "cell_type": "code",
   "execution_count": 10,
   "metadata": {},
   "outputs": [],
   "source": [
    "# output_shape = [バッチ数, 得たいheight, 得たいwidth, 得たいchannel]\n",
    "# 逆畳み込み層\n",
    "def de_conv2d(x, weight, output_shape, stride=2, relu=True):\n",
    "    net = tf.nn.conv2d_transpose(x,\n",
    "                                 filter=weight,\n",
    "                                 output_shape=output_shape,\n",
    "                                 strides=[1, stride, stride, 1],\n",
    "                                 padding='SAME')\n",
    "    if relu:\n",
    "        return tf.nn.relu(net)\n",
    "    return net"
   ]
  },
  {
   "cell_type": "code",
   "execution_count": null,
   "metadata": {},
   "outputs": [],
   "source": [
    "def UNet():\n",
    "    net = {}\n",
    "    net['input'] = tf.Variable(['''音源データ''', dtype='tf.', name='input'])\n",
    "    net['conv1'] = conv2d(net['input'], weight1)\n",
    "    net['norm1'] = \n",
    "    net['conv2'] = conv2d(net['norm1'], weight2)\n",
    "    net['norm2'] = \n",
    "    net['conv3'] = conv2d(net['norm2'], weight3)\n",
    "    net['norm3'] = \n",
    "    net['conv4'] = conv2d(net['norm3'], weight4)\n",
    "    net['norm4'] = \n",
    "    net['conv5'] = conv2d(net['norm4'], weight5)\n",
    "    net['norm5'] = \n",
    "    net['conv6'] = conv2d(net['norm5'], weight6)\n",
    "    net['norm6'] = \n",
    "    net['de_conv1'] = de_conv2d(net['norm6'], de_weight1, output_shape1)\n",
    "    net['de_norm1'] = \n",
    "    net['de_conv2'] = de_conv2d(net['de_norm1'], de_weight2, output_shape2)\n",
    "    net['de_norm2'] = \n",
    "    net['de_conv3'] = de_conv2d(net['de_norm2'], de_weight3, output_shape3)\n",
    "    net['de_norm3'] = \n",
    "    net['de_conv4'] = de_conv2d(net['de_norm3'], de_weight4, output_shape4)\n",
    "    net['de_norm4'] = \n",
    "    net['de_conv5'] = de_conv2d(net['de_norm4'], de_weight5, output_shape5)\n",
    "    net['de_norm5'] = \n",
    "    net['de_conv6'] = de_conv2d(net['de_norm5'], de_weight6, output_shape6)\n",
    "    net['de_norm6'] = \n",
    "    return net"
   ]
  }
 ],
 "metadata": {
  "kernelspec": {
   "display_name": "Python 3",
   "language": "python",
   "name": "python3"
  },
  "language_info": {
   "codemirror_mode": {
    "name": "ipython",
    "version": 3
   },
   "file_extension": ".py",
   "mimetype": "text/x-python",
   "name": "python",
   "nbconvert_exporter": "python",
   "pygments_lexer": "ipython3",
   "version": "3.5.5"
  },
  "widgets": {
   "state": {},
   "version": "1.1.2"
  }
 },
 "nbformat": 4,
 "nbformat_minor": 2
}
