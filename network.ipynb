{
 "cells": [
  {
   "cell_type": "code",
   "execution_count": 1,
   "metadata": {},
   "outputs": [],
   "source": [
    "#!usr/bin/env python3\n",
    "# -*- coding: utf-8 -*-"
   ]
  },
  {
   "cell_type": "code",
   "execution_count": 2,
   "metadata": {},
   "outputs": [
    {
     "name": "stderr",
     "output_type": "stream",
     "text": [
      "C:\\Anaconda3\\lib\\site-packages\\h5py\\__init__.py:34: FutureWarning: Conversion of the second argument of issubdtype from `float` to `np.floating` is deprecated. In future, it will be treated as `np.float64 == np.dtype(float).type`.\n",
      "  from ._conv import register_converters as _register_converters\n"
     ]
    }
   ],
   "source": [
    "import tensorflow as tf"
   ]
  },
  {
   "cell_type": "code",
   "execution_count": 3,
   "metadata": {},
   "outputs": [],
   "source": [
    "import numpy as np"
   ]
  },
  {
   "cell_type": "code",
   "execution_count": 4,
   "metadata": {},
   "outputs": [],
   "source": [
    "# filter = [height, width, output_channel, in_channel]\n",
    "# filter_init = [5, 5, 1, 16]\n",
    "# 畳み込み層\n",
    "def conv2d(x, weight, stride=2, leaky_relu=True):\n",
    "    net = tf.nn.conv2d(x,\n",
    "                       filter=weight,\n",
    "                       strides=[1, stride, stride, 1],\n",
    "                       padding='SAME')\n",
    "    if leaky_relu:\n",
    "        return tf.nn.leaky_relu(net, 0.2)\n",
    "    return net"
   ]
  },
  {
   "cell_type": "markdown",
   "metadata": {},
   "source": [
    "以下2セルはテストコード"
   ]
  },
  {
   "cell_type": "code",
   "execution_count": 5,
   "metadata": {},
   "outputs": [
    {
     "name": "stdout",
     "output_type": "stream",
     "text": [
      "(512, 128, 1)\n"
     ]
    },
    {
     "data": {
      "text/plain": [
       "array([[[193.30561252],\n",
       "        [232.40993682],\n",
       "        [ 91.53603098],\n",
       "        ...,\n",
       "        [187.59557558],\n",
       "        [179.66919983],\n",
       "        [ 11.29315236]],\n",
       "\n",
       "       [[ 60.54410231],\n",
       "        [146.35278293],\n",
       "        [252.88046045],\n",
       "        ...,\n",
       "        [201.45929194],\n",
       "        [ 36.17197282],\n",
       "        [232.98209321]],\n",
       "\n",
       "       [[115.12061964],\n",
       "        [199.84679745],\n",
       "        [154.09749904],\n",
       "        ...,\n",
       "        [  6.97335426],\n",
       "        [105.31247282],\n",
       "        [151.49272522]],\n",
       "\n",
       "       ...,\n",
       "\n",
       "       [[194.98781356],\n",
       "        [ 34.8922554 ],\n",
       "        [ 27.55485885],\n",
       "        ...,\n",
       "        [125.7153343 ],\n",
       "        [152.64278213],\n",
       "        [ 36.74432037]],\n",
       "\n",
       "       [[163.09082838],\n",
       "        [ 64.4590393 ],\n",
       "        [125.45224491],\n",
       "        ...,\n",
       "        [221.06530965],\n",
       "        [145.59316135],\n",
       "        [ 31.33020953]],\n",
       "\n",
       "       [[148.07219577],\n",
       "        [ 90.90222044],\n",
       "        [ 33.04849436],\n",
       "        ...,\n",
       "        [125.82053599],\n",
       "        [132.05446591],\n",
       "        [ 87.51345108]]])"
      ]
     },
     "execution_count": 5,
     "metadata": {},
     "output_type": "execute_result"
    }
   ],
   "source": [
    "test_audio = np.random.rand(512, 128, 1) * 255\n",
    "print(test_audio.shape)\n",
    "test_audio"
   ]
  },
  {
   "cell_type": "code",
   "execution_count": 6,
   "metadata": {},
   "outputs": [
    {
     "name": "stdout",
     "output_type": "stream",
     "text": [
      "(1, 256, 64, 16)\n"
     ]
    },
    {
     "data": {
      "text/plain": [
       "<tf.Tensor 'LeakyRelu:0' shape=(1, 256, 64, 16) dtype=float64>"
      ]
     },
     "execution_count": 6,
     "metadata": {},
     "output_type": "execute_result"
    }
   ],
   "source": [
    "weight = np.random.rand(5, 5, 1, 16)\n",
    "test_audio = test_audio.reshape(-1, 512, 128, 1)\n",
    "\n",
    "conv_test_audio = conv2d(test_audio, weight)\n",
    "print(conv_test_audio.shape)\n",
    "conv_test_audio"
   ]
  },
  {
   "cell_type": "code",
   "execution_count": 10,
   "metadata": {},
   "outputs": [],
   "source": [
    "# output_shape = [バッチ数, 得たいheight, 得たいwidth, 得たいchannel]\n",
    "# 逆畳み込み層\n",
    "def de_conv2d(x, weight, output_shape, stride=2, relu=True):\n",
    "    net = tf.nn.conv2d_transpose(x,\n",
    "                                 filter=weight,\n",
    "                                 output_shape=output_shape,\n",
    "                                 strides=[1, stride, stride, 1],\n",
    "                                 padding='SAME')\n",
    "    if relu:\n",
    "        return tf.nn.relu(net)\n",
    "    return net"
   ]
  },
  {
   "cell_type": "markdown",
   "metadata": {},
   "source": [
    "以下1セルはテストコード"
   ]
  },
  {
   "cell_type": "code",
   "execution_count": 12,
   "metadata": {},
   "outputs": [
    {
     "name": "stdout",
     "output_type": "stream",
     "text": [
      "(1, 512, 128, 1)\n"
     ]
    },
    {
     "data": {
      "text/plain": [
       "<tf.Tensor 'Relu:0' shape=(1, 512, 128, 1) dtype=float64>"
      ]
     },
     "execution_count": 12,
     "metadata": {},
     "output_type": "execute_result"
    }
   ],
   "source": [
    "weight = np.random.rand(5, 5, 1, 16)\n",
    "output_shape = [1, 512, 128, 1]\n",
    "\n",
    "de_conv_test_audio = de_conv2d(conv_test_audio, weight, output_shape)\n",
    "print(de_conv_test_audio.shape)\n",
    "de_conv_test_audio"
   ]
  },
  {
   "cell_type": "code",
   "execution_count": null,
   "metadata": {},
   "outputs": [],
   "source": []
  }
 ],
 "metadata": {
  "kernelspec": {
   "display_name": "Python 3",
   "language": "python",
   "name": "python3"
  },
  "language_info": {
   "codemirror_mode": {
    "name": "ipython",
    "version": 3
   },
   "file_extension": ".py",
   "mimetype": "text/x-python",
   "name": "python",
   "nbconvert_exporter": "python",
   "pygments_lexer": "ipython3",
   "version": "3.5.5"
  },
  "widgets": {
   "state": {},
   "version": "1.1.2"
  }
 },
 "nbformat": 4,
 "nbformat_minor": 2
}
