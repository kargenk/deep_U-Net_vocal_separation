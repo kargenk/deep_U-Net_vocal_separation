{
 "cells": [
  {
   "cell_type": "code",
   "execution_count": 1,
   "metadata": {},
   "outputs": [],
   "source": [
    "#!usr/bin/env python3\n",
    "# -*- coding: utf-8 -*-"
   ]
  },
  {
   "cell_type": "code",
   "execution_count": 2,
   "metadata": {},
   "outputs": [
    {
     "name": "stderr",
     "output_type": "stream",
     "text": [
      "C:\\Anaconda3\\lib\\site-packages\\h5py\\__init__.py:34: FutureWarning: Conversion of the second argument of issubdtype from `float` to `np.floating` is deprecated. In future, it will be treated as `np.float64 == np.dtype(float).type`.\n",
      "  from ._conv import register_converters as _register_converters\n"
     ]
    }
   ],
   "source": [
    "import tensorflow as tf\n",
    "import numpy as np\n",
    "import const as C"
   ]
  },
  {
   "cell_type": "code",
   "execution_count": 3,
   "metadata": {},
   "outputs": [],
   "source": [
    "# filter = [kernel_height, kernel_width, input_channel, output_channel]\n",
    "# 畳み込み層(エンコーダ部分)\n",
    "def conv2d(x, output_channel, kernel=3, stride=2, batch_norm=True, is_training=True, leaky_relu=True):\n",
    "    net = tf.layers.conv2d(x,\n",
    "                          filters=output_channel,\n",
    "                          kernel_size=[kernel, kernel],\n",
    "                          strides=[stride, stride],\n",
    "                          padding='SAME')\n",
    "    if batch_norm:\n",
    "        net = tf.layers.batch_normalization(net, training=is_training)\n",
    "    if leaky_relu:\n",
    "        net = tf.nn.leaky_relu(net, 0.2)\n",
    "    return net"
   ]
  },
  {
   "cell_type": "code",
   "execution_count": 4,
   "metadata": {},
   "outputs": [],
   "source": [
    "# filter = [kernel_height, kernel_width, output_channel, input_channel]\n",
    "# output_shape = [バッチ数, 得たいheight, 得たいwidth, 得たいchannel]\n",
    "# 逆畳み込み層(デコーダ部分)\n",
    "def de_conv2d(x, output_channel, kernel=3, stride=2, batch_norm=True, is_training=True, relu=True):\n",
    "    net = tf.layers.conv2d_transpose(x,\n",
    "                                     filters=output_channel,\n",
    "                                     kernel_size=[kernel, kernel],\n",
    "                                     strides=[stride, stride],\n",
    "                                     padding='SAME')\n",
    "    if batch_norm:\n",
    "        net = tf.layers.batch_normalization(net, training=is_training)\n",
    "    if relu:\n",
    "        net = tf.nn.relu(net)\n",
    "    return net"
   ]
  },
  {
   "cell_type": "code",
   "execution_count": 5,
   "metadata": {},
   "outputs": [],
   "source": [
    "def UNet():\n",
    "    net = {}\n",
    "    net['input'] = tf.placeholder(tf.float32, [None, 512, 128, 1])\n",
    "    net['conv1'] = conv2d(net['input'], output_channel=16)\n",
    "    net['conv2'] = conv2d(net['conv1'], output_channel=32)\n",
    "    net['conv3'] = conv2d(net['conv2'], output_channel=64)\n",
    "    net['conv4'] = conv2d(net['conv3'], output_channel=128)\n",
    "    net['conv5'] = conv2d(net['conv4'], output_channel=256)\n",
    "    net['conv6'] = conv2d(net['conv5'], output_channel=512)\n",
    "    net['de_conv1'] = de_conv2d(net['conv6'], output_channel=256)\n",
    "    net['concat1'] = tf.concat([net['de_conv1'], net['conv5']], axis=-1)\n",
    "    net['dropout1'] = tf.nn.dropout(net['concat1'], rate=0.5)\n",
    "    net['de_conv2'] = de_conv2d(net['dropout1'], output_channel=128)\n",
    "    net['concat2'] = tf.concat([net['de_conv2'], net['conv4']], axis=-1)\n",
    "    net['dropout2'] = tf.nn.dropout(net['concat2'], rate=0.5)\n",
    "    net['de_conv3'] = de_conv2d(net['dropout2'], output_channel=64)\n",
    "    net['concat3'] = tf.concat([net['de_conv3'], net['conv3']], axis=-1)\n",
    "    net['dropout3'] = tf.nn.dropout(net['concat3'], rate=0.5)\n",
    "    net['de_conv4'] = de_conv2d(net['dropout3'], output_channel=32)\n",
    "    net['concat4'] = tf.concat([net['de_conv4'], net['conv2']], axis=-1)\n",
    "    net['de_conv5'] = de_conv2d(net['concat4'], output_channel=16)\n",
    "    net['concat5'] = tf.concat([net['de_conv5'], net['conv1']], axis=-1)\n",
    "    net['de_conv6'] = de_conv2d(net['concat5'], output_channel=1)\n",
    "    return net"
   ]
  },
  {
   "cell_type": "code",
   "execution_count": 6,
   "metadata": {},
   "outputs": [
    {
     "name": "stdout",
     "output_type": "stream",
     "text": [
      "WARNING:tensorflow:From <ipython-input-3-3012850f20f5>:8: conv2d (from tensorflow.python.layers.convolutional) is deprecated and will be removed in a future version.\n",
      "Instructions for updating:\n",
      "Use keras.layers.conv2d instead.\n",
      "WARNING:tensorflow:From C:\\Anaconda3\\lib\\site-packages\\tensorflow\\python\\framework\\op_def_library.py:263: colocate_with (from tensorflow.python.framework.ops) is deprecated and will be removed in a future version.\n",
      "Instructions for updating:\n",
      "Colocations handled automatically by placer.\n",
      "WARNING:tensorflow:From <ipython-input-3-3012850f20f5>:10: batch_normalization (from tensorflow.python.layers.normalization) is deprecated and will be removed in a future version.\n",
      "Instructions for updating:\n",
      "Use keras.layers.batch_normalization instead.\n",
      "WARNING:tensorflow:From <ipython-input-4-0c2818d6d82c>:9: conv2d_transpose (from tensorflow.python.layers.convolutional) is deprecated and will be removed in a future version.\n",
      "Instructions for updating:\n",
      "Use keras.layers.conv2d_transpose instead.\n"
     ]
    }
   ],
   "source": [
    "model = UNet()\n",
    "\n",
    "# 初期化\n",
    "init = tf.global_variables_initializer()\n",
    "sess = tf.Session()\n",
    "sess.run(init)"
   ]
  },
  {
   "cell_type": "code",
   "execution_count": null,
   "metadata": {},
   "outputs": [],
   "source": []
  }
 ],
 "metadata": {
  "kernelspec": {
   "display_name": "Python 3",
   "language": "python",
   "name": "python3"
  },
  "language_info": {
   "codemirror_mode": {
    "name": "ipython",
    "version": 3
   },
   "file_extension": ".py",
   "mimetype": "text/x-python",
   "name": "python",
   "nbconvert_exporter": "python",
   "pygments_lexer": "ipython3",
   "version": "3.5.5"
  },
  "widgets": {
   "state": {},
   "version": "1.1.2"
  }
 },
 "nbformat": 4,
 "nbformat_minor": 2
}
