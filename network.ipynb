{
 "cells": [
  {
   "cell_type": "code",
   "execution_count": 2,
   "metadata": {},
   "outputs": [],
   "source": [
    "#!usr/bin/env python3\n",
    "# -*- coding: utf-8 -*-"
   ]
  },
  {
   "cell_type": "code",
   "execution_count": 3,
   "metadata": {},
   "outputs": [
    {
     "name": "stderr",
     "output_type": "stream",
     "text": [
      "C:\\Anaconda3\\lib\\site-packages\\h5py\\__init__.py:34: FutureWarning: Conversion of the second argument of issubdtype from `float` to `np.floating` is deprecated. In future, it will be treated as `np.float64 == np.dtype(float).type`.\n",
      "  from ._conv import register_converters as _register_converters\n"
     ]
    }
   ],
   "source": [
    "import tensorflow as tf"
   ]
  },
  {
   "cell_type": "code",
   "execution_count": 4,
   "metadata": {},
   "outputs": [],
   "source": [
    "import numpy as np"
   ]
  },
  {
   "cell_type": "code",
   "execution_count": 1,
   "metadata": {},
   "outputs": [],
   "source": [
    "# filter_init = [5, 5, 1, 16]\n",
    "# 畳み込み層\n",
    "def conv2d(x, weight, stride=2, leaky_relu=True):\n",
    "    net = tf.nn.conv2d(x,\n",
    "                       filter=weight,\n",
    "                       strides=[1, stride, stride, 1],\n",
    "                       padding='SAME')\n",
    "    if leaky_relu:\n",
    "        return tf.nn.leaky_relu(net, 0.2)\n",
    "    return net"
   ]
  },
  {
   "cell_type": "code",
   "execution_count": 26,
   "metadata": {},
   "outputs": [
    {
     "name": "stdout",
     "output_type": "stream",
     "text": [
      "(512, 128, 1)\n"
     ]
    },
    {
     "data": {
      "text/plain": [
       "array([[[183.42628276],\n",
       "        [ 34.23725811],\n",
       "        [ 16.17056107],\n",
       "        ...,\n",
       "        [210.85697621],\n",
       "        [ 98.85124035],\n",
       "        [155.71086932]],\n",
       "\n",
       "       [[ 59.09363676],\n",
       "        [110.76029234],\n",
       "        [221.08283707],\n",
       "        ...,\n",
       "        [106.14706562],\n",
       "        [190.82557268],\n",
       "        [ 67.89060823]],\n",
       "\n",
       "       [[  1.80213822],\n",
       "        [ 64.04903404],\n",
       "        [235.72711849],\n",
       "        ...,\n",
       "        [ 82.07400694],\n",
       "        [214.63056024],\n",
       "        [ 80.5047963 ]],\n",
       "\n",
       "       ...,\n",
       "\n",
       "       [[ 54.66464239],\n",
       "        [ 41.83255546],\n",
       "        [126.13782937],\n",
       "        ...,\n",
       "        [187.81877515],\n",
       "        [231.63941689],\n",
       "        [ 34.48314455]],\n",
       "\n",
       "       [[161.74205398],\n",
       "        [224.70176347],\n",
       "        [169.75802034],\n",
       "        ...,\n",
       "        [ 68.1974918 ],\n",
       "        [152.10125291],\n",
       "        [157.79802449]],\n",
       "\n",
       "       [[ 45.48860542],\n",
       "        [ 29.21693717],\n",
       "        [ 34.53753921],\n",
       "        ...,\n",
       "        [219.94064397],\n",
       "        [133.04782154],\n",
       "        [190.36881487]]])"
      ]
     },
     "execution_count": 26,
     "metadata": {},
     "output_type": "execute_result"
    }
   ],
   "source": [
    "test_audio = np.random.rand(512, 128, 1) * 255\n",
    "print(test_audio.shape)\n",
    "test_audio"
   ]
  },
  {
   "cell_type": "code",
   "execution_count": 30,
   "metadata": {},
   "outputs": [
    {
     "name": "stdout",
     "output_type": "stream",
     "text": [
      "(1, 256, 64, 16)\n"
     ]
    },
    {
     "data": {
      "text/plain": [
       "<tf.Tensor 'LeakyRelu:0' shape=(1, 256, 64, 16) dtype=float64>"
      ]
     },
     "execution_count": 30,
     "metadata": {},
     "output_type": "execute_result"
    }
   ],
   "source": [
    "weight = np.random.rand(5, 5, 1, 16)\n",
    "test_audio = test_audio.reshape(-1, 512, 128, 1)\n",
    "\n",
    "conv_test_audio = conv2d(test_audio, weight)\n",
    "print(conv_test_audio.shape)\n",
    "conv_test_audio"
   ]
  },
  {
   "cell_type": "code",
   "execution_count": null,
   "metadata": {},
   "outputs": [],
   "source": []
  }
 ],
 "metadata": {
  "kernelspec": {
   "display_name": "Python 3",
   "language": "python",
   "name": "python3"
  },
  "language_info": {
   "codemirror_mode": {
    "name": "ipython",
    "version": 3
   },
   "file_extension": ".py",
   "mimetype": "text/x-python",
   "name": "python",
   "nbconvert_exporter": "python",
   "pygments_lexer": "ipython3",
   "version": "3.5.5"
  },
  "widgets": {
   "state": {},
   "version": "1.1.2"
  }
 },
 "nbformat": 4,
 "nbformat_minor": 2
}
